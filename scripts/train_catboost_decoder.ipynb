{
  "cells": [
    {
      "cell_type": "markdown",
      "metadata": {},
      "source": [
        "# CatBoostRegressor training for State latent to gene counts (multi-target)\n",
        "\n",
        "This notebook trains a multi-target CatBoostRegressor that maps State latent outputs (X) to gene counts (Y).\n",
        "\n",
        "Workflow:\n",
        "- Load latent features X and gene counts Y (NumPy/Parquet/CSV)\n",
        "- Train/val split\n",
        "- Train CatBoost with MultiRMSE (multi-target)\n",
        "- Evaluate RMSE per-target and overall\n",
        "- Save model to `.cbm` and show how to enable in `pertsets.yaml`\n"
      ]
    },
    {
      "cell_type": "code",
      "execution_count": null,
      "metadata": {
        "vscode": {
          "languageId": "plaintext"
        }
      },
      "outputs": [],
      "source": [
        "# If running locally, uncomment to install dependencies\n",
        "# pip install catboost numpy pandas pyarrow scikit-learn\n"
      ]
    },
    {
      "cell_type": "code",
      "execution_count": null,
      "metadata": {},
      "outputs": [],
      "source": [
        "import os\n",
        "import json\n",
        "from pathlib import Path\n",
        "\n",
        "import numpy as np\n",
        "import pandas as pd\n",
        "from sklearn.model_selection import train_test_split\n",
        "from sklearn.metrics import mean_squared_error\n",
        "\n",
        "from catboost import CatBoostRegressor, Pool\n",
        "\n",
        "# Config\n",
        "latent_path = os.getenv(\"STATE_LATENT_PATH\", \"latent.npy\")  # shape [N, D]\n",
        "counts_path = os.getenv(\"STATE_COUNTS_PATH\", \"counts.npy\")  # shape [N, G]\n",
        "output_model = os.getenv(\"CB_MODEL_PATH\", \"catboost_decoder.cbm\")\n",
        "random_state = int(os.getenv(\"SEED\", 42))\n",
        "\n",
        "# Load data\n",
        "if latent_path.endswith(\".npy\"):\n",
        "    X = np.load(latent_path)\n",
        "elif latent_path.endswith((\".parquet\", \".pq\")):\n",
        "    X = pd.read_parquet(latent_path).to_numpy()\n",
        "else:\n",
        "    X = pd.read_csv(latent_path).to_numpy()\n",
        "\n",
        "if counts_path.endswith(\".npy\"):\n",
        "    Y = np.load(counts_path)\n",
        "elif counts_path.endswith((\".parquet\", \".pq\")):\n",
        "    Y = pd.read_parquet(counts_path).to_numpy()\n",
        "else:\n",
        "    Y = pd.read_csv(counts_path).to_numpy()\n",
        "\n",
        "assert X.ndim == 2 and Y.ndim == 2, f\"Expected 2D arrays, got X:{X.shape}, Y:{Y.shape}\"\n",
        "N = min(len(X), len(Y))\n",
        "X = X[:N]\n",
        "Y = Y[:N]\n",
        "print(f\"Loaded X: {X.shape}, Y: {Y.shape}\")\n",
        "\n",
        "# Train/val split\n",
        "X_train, X_val, Y_train, Y_val = train_test_split(X, Y, test_size=0.2, random_state=random_state)\n",
        "print(f\"Train: {X_train.shape}, {Y_train.shape} | Val: {X_val.shape}, {Y_val.shape}\")\n"
      ]
    },
    {
      "cell_type": "code",
      "execution_count": null,
      "metadata": {},
      "outputs": [],
      "source": [
        "# Training with MultiRMSE\n",
        "params = {\n",
        "    \"loss_function\": \"MultiRMSE\",\n",
        "    \"eval_metric\": \"MultiRMSE\",\n",
        "    \"learning_rate\": 0.05,\n",
        "    \"depth\": 8,\n",
        "    \"iterations\": 2000,\n",
        "    \"random_seed\": random_state,\n",
        "    \"bootstrap_type\": \"Bayesian\",\n",
        "    \"task_type\": \"CPU\",  # set to GPU if available and catboost built with CUDA\n",
        "    # \"devices\": \"0\",\n",
        "}\n",
        "\n",
        "train_pool = Pool(X_train, label=Y_train)\n",
        "val_pool = Pool(X_val, label=Y_val)\n",
        "\n",
        "model = CatBoostRegressor(**params)\n",
        "model.fit(\n",
        "    train_pool,\n",
        "    eval_set=val_pool,\n",
        "    verbose=200,\n",
        "    use_best_model=True,\n",
        ")\n",
        "\n",
        "# Evaluate RMSE overall and per-target\n",
        "Y_val_pred = model.predict(X_val)\n",
        "if Y_val_pred.ndim == 1:\n",
        "    Y_val_pred = Y_val_pred[:, None]\n",
        "\n",
        "rmse_overall = mean_squared_error(Y_val, Y_val_pred, squared=False)\n",
        "rmse_per_target = ((Y_val - Y_val_pred) ** 2).mean(axis=0) ** 0.5\n",
        "\n",
        "print(\"Validation RMSE (overall):\", float(rmse_overall))\n",
        "print(\"Validation RMSE per-target (first 10):\", rmse_per_target[:10])\n"
      ]
    },
    {
      "cell_type": "code",
      "execution_count": null,
      "metadata": {},
      "outputs": [],
      "source": [
        "# Save model and artifacts\n",
        "Path(output_model).parent.mkdir(parents=True, exist_ok=True)\n",
        "model.save_model(output_model)\n",
        "print(f\"Saved CatBoost model to: {output_model}\")\n",
        "\n",
        "# Optional: save metrics\n",
        "metrics_path = os.getenv(\"CB_METRICS_PATH\", \"catboost_metrics.json\")\n",
        "with open(metrics_path, \"w\") as f:\n",
        "    json.dump({\n",
        "        \"rmse_overall\": float(rmse_overall),\n",
        "        \"rmse_per_target_sample\": [float(x) for x in rmse_per_target[:50]],\n",
        "        \"X_shape\": list(X.shape),\n",
        "        \"Y_shape\": list(Y.shape),\n",
        "    }, f, indent=2)\n",
        "print(f\"Saved metrics to: {metrics_path}\")\n"
      ]
    },
    {
      "cell_type": "markdown",
      "metadata": {},
      "source": [
        "## Exporting latent features and counts\n",
        "\n",
        "You can export latent outputs (X) and gene counts (Y) from the State model by running a prediction job and saving tensors:\n",
        "\n",
        "- `X` should be the model latent predictions (shape [N, D])\n",
        "- `Y` should be aligned gene counts targets (shape [N, G])\n",
        "\n",
        "Once trained, enable the CatBoost decoder in `configs/model/pertsets.yaml`:\n",
        "\n",
        "```yaml\n",
        "kwargs:\n",
        "  catboost_decoder:\n",
        "    enable: true\n",
        "    model_path: /path/to/catboost_decoder.cbm\n",
        "    target_dim: ${model.kwargs.gene_dim}\n",
        "```\n"
      ]
    }
  ],
  "metadata": {
    "language_info": {
      "name": "python"
    }
  },
  "nbformat": 4,
  "nbformat_minor": 2
}
